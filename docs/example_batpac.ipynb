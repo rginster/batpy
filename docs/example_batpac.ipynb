{
    "cells": [
        {
            "attachments": {},
            "cell_type": "markdown",
            "metadata": {},
            "source": [
                "# Example usage of BatPy\n",
                "`batpy` is able to read, write, and calculate batteries in the BatPaC tool. To use `batpy` in a project. In order to use `batpy`in a project for BatPaC tool interaction, follow the example below."
            ]
        },
        {
            "attachments": {},
            "cell_type": "markdown",
            "metadata": {},
            "source": [
                "## Import"
            ]
        },
        {
            "cell_type": "code",
            "execution_count": 1,
            "metadata": {},
            "outputs": [],
            "source": [
                "# included datasets\n",
                "from batpy import datasets\n",
                "\n",
                "# batpac battery and tool classes\n",
                "from batpy.batpac_battery import BatpacBattery\n",
                "from batpy.batpac_tool import BatpacTool\n",
                "\n",
                "# pathlib for filesystem path handling\n",
                "from pathlib import Path\n"
            ]
        },
        {
            "attachments": {},
            "cell_type": "markdown",
            "metadata": {},
            "source": [
                "## Paths to Excel file and to TOML configuration"
            ]
        },
        {
            "cell_type": "code",
            "execution_count": 2,
            "metadata": {},
            "outputs": [],
            "source": [
                "# Get BatPaC: https://www.anl.gov/partnerships/batpac-battery-manufacturing-cost-estimation\n",
                "BATPY_BATPAC_EXCEL = Path(\"./example_data/excel_workbooks/BatPaC.xlsm\")\n",
                "\n",
                "# BatPaC battery configuration\n",
                "BATPY_BATPAC_BATTERY_CONFIG = Path(\n",
                "    \"./example_data/conf_batpac/batpy_batteries_config.toml\"\n",
                ")"
            ]
        },
        {
            "attachments": {},
            "cell_type": "markdown",
            "metadata": {},
            "source": [
                "## Get included datasets"
            ]
        },
        {
            "attachments": {},
            "cell_type": "markdown",
            "metadata": {},
            "source": [
                "Show available dataset versions:"
            ]
        },
        {
            "cell_type": "code",
            "execution_count": 3,
            "metadata": {},
            "outputs": [
                {
                    "data": {
                        "text/plain": [
                            "[Version('0.3.0'), Version('0.0.0'), Version('0.1.0')]"
                        ]
                    },
                    "execution_count": 3,
                    "metadata": {},
                    "output_type": "execute_result"
                }
            ],
            "source": [
                "datasets.get_available_batpy_dataset_versions()\n"
            ]
        },
        {
            "attachments": {},
            "cell_type": "markdown",
            "metadata": {},
            "source": [
                "Show latest version:"
            ]
        },
        {
            "cell_type": "code",
            "execution_count": 4,
            "metadata": {},
            "outputs": [
                {
                    "data": {
                        "text/plain": [
                            "Version('0.3.0')"
                        ]
                    },
                    "execution_count": 4,
                    "metadata": {},
                    "output_type": "execute_result"
                }
            ],
            "source": [
                "datasets.get_latest_batpy_dataset_version()"
            ]
        },
        {
            "attachments": {},
            "cell_type": "markdown",
            "metadata": {},
            "source": [
                "Show available dataset of specified version and their description (default latest):"
            ]
        },
        {
            "cell_type": "code",
            "execution_count": 5,
            "metadata": {},
            "outputs": [
                {
                    "data": {
                        "text/plain": [
                            "{'batpy_batteries_config.toml': 'Example configuration for batteries',\n",
                            " 'batpy_batpac_config.toml': 'Example configuration for BatPaC tool',\n",
                            " 'batpy_batpac_summary_of_results.toml': 'Configuration for worksheet Summary of Results in BatPaC Excel',\n",
                            " 'batpy_batpac_calculation_and_validation_results.toml': 'Configuration for calculation and validation results in BatPaC Excel',\n",
                            " 'batpy_batpac_user_input_cells.toml': 'Configuration for standard user input cells in BatPaC Excel',\n",
                            " 'batpy_batpac_battery_design.toml': 'Configuration for worksheet battery design in BatPaC Excel',\n",
                            " 'batpy_batpac2brightway.toml': 'Configuration for brightway2 export'}"
                        ]
                    },
                    "execution_count": 5,
                    "metadata": {},
                    "output_type": "execute_result"
                }
            ],
            "source": [
                "datasets.get_available_batpy_datasets()"
            ]
        },
        {
            "attachments": {},
            "cell_type": "markdown",
            "metadata": {},
            "source": [
                "Export integrated dataset"
            ]
        },
        {
            "cell_type": "code",
            "execution_count": 6,
            "metadata": {},
            "outputs": [],
            "source": [
                "datasets.copy_integrated_dataset(\n",
                "    \"batpy_batteries_config\", BATPY_BATPAC_BATTERY_CONFIG\n",
                ")"
            ]
        },
        {
            "attachments": {},
            "cell_type": "markdown",
            "metadata": {},
            "source": [
                "Load included datasets:"
            ]
        },
        {
            "cell_type": "code",
            "execution_count": 7,
            "metadata": {},
            "outputs": [],
            "source": [
                "batpy_batpac_battery_design = datasets.get_batpy_dataset(\n",
                "    \"batpy_batpac_battery_design\"\n",
                ")\n",
                "batpy_batpac_user_input_config = datasets.get_batpy_dataset(\n",
                "    \"batpy_batpac_user_input_cells\"\n",
                ")\n",
                "\n",
                "batpy_batpac_tool_config = datasets.get_batpy_dataset(\"batpy_batpac_config\")\n",
                "\n",
                "batpy_batpac_tool_calculation_validation_config = datasets.get_batpy_dataset(\n",
                "    \"batpy_batpac_calculation_and_validation_results\"\n",
                ")\n",
                "\n",
                "additional_user_defined_results_cells = datasets.get_batpy_dataset(\n",
                "    \"batpy_batpac_summary_of_results\"\n",
                ")"
            ]
        },
        {
            "attachments": {},
            "cell_type": "markdown",
            "metadata": {},
            "source": [
                "## Batteries\n",
                "### Create batteries"
            ]
        },
        {
            "cell_type": "code",
            "execution_count": 8,
            "metadata": {},
            "outputs": [],
            "source": [
                "bat1 = BatpacBattery(\"Battery 1\")\n",
                "bat2 = BatpacBattery(\"Battery 2\")\n",
                "bat3 = BatpacBattery(\"Battery 3\")\n",
                "bat4 = BatpacBattery(\"Battery 4\")\n",
                "bat5 = BatpacBattery(\"Battery 5\")\n",
                "bat6 = BatpacBattery(\"Battery 6\")\n",
                "bat7 = BatpacBattery(\"Battery 7\")\n"
            ]
        },
        {
            "attachments": {},
            "cell_type": "markdown",
            "metadata": {},
            "source": [
                "### Change battery properties\n",
                "a) Write individual properties for created batteries"
            ]
        },
        {
            "cell_type": "code",
            "execution_count": 9,
            "metadata": {},
            "outputs": [],
            "source": [
                "bat1.set_new_property(\"Dashboard\", \"Number of modules in parallel\", 10)\n"
            ]
        },
        {
            "attachments": {},
            "cell_type": "markdown",
            "metadata": {},
            "source": [
                "b) Load individiual battery configuration from file"
            ]
        },
        {
            "cell_type": "code",
            "execution_count": 10,
            "metadata": {},
            "outputs": [
                {
                    "data": {
                        "text/plain": [
                            "True"
                        ]
                    },
                    "execution_count": 10,
                    "metadata": {},
                    "output_type": "execute_result"
                }
            ],
            "source": [
                "bat2.load_battery_file(BATPY_BATPAC_BATTERY_CONFIG, \"Battery 2\")\n"
            ]
        },
        {
            "attachments": {},
            "cell_type": "markdown",
            "metadata": {},
            "source": [
                "## BatPaC tool\n",
                "### Create BatPaC instance"
            ]
        },
        {
            "cell_type": "code",
            "execution_count": 11,
            "metadata": {},
            "outputs": [],
            "source": [
                "batpac_excel = BatpacTool(\n",
                "    BATPY_BATPAC_EXCEL,\n",
                "    batpy_batpac_user_input_config,\n",
                "    batpy_batpac_tool_calculation_validation_config,\n",
                "    workbook_visible=True,\n",
                ")\n"
            ]
        },
        {
            "attachments": {},
            "cell_type": "markdown",
            "metadata": {},
            "source": [
                "### Add batteries to BatPaC object\n",
                "a) Add individual batteries"
            ]
        },
        {
            "cell_type": "code",
            "execution_count": 12,
            "metadata": {},
            "outputs": [],
            "source": [
                "batpac_excel.add_battery(\n",
                "    [\n",
                "        bat1,\n",
                "        bat2,\n",
                "        bat3,\n",
                "        bat4,\n",
                "        bat5,\n",
                "        bat6,\n",
                "        bat7,\n",
                "    ]\n",
                ")\n"
            ]
        },
        {
            "attachments": {},
            "cell_type": "markdown",
            "metadata": {},
            "source": [
                "b) Add individual batteries and load their configuration file (will overwrite all batteries)"
            ]
        },
        {
            "cell_type": "code",
            "execution_count": 13,
            "metadata": {},
            "outputs": [],
            "source": [
                "batpac_excel.load_batteries_file(\n",
                "    BATPY_BATPAC_BATTERY_CONFIG,\n",
                "    [\n",
                "        bat1,\n",
                "        bat2,\n",
                "        bat3,\n",
                "        bat4,\n",
                "        bat5,\n",
                "        bat6,\n",
                "        bat7,\n",
                "    ],\n",
                ")\n"
            ]
        },
        {
            "attachments": {},
            "cell_type": "markdown",
            "metadata": {},
            "source": [
                "### Load configuration file for BatPaC instance"
            ]
        },
        {
            "cell_type": "code",
            "execution_count": 14,
            "metadata": {},
            "outputs": [],
            "source": [
                "batpac_excel.load_batpac_file(batpy_batpac_tool_config)\n"
            ]
        },
        {
            "attachments": {},
            "cell_type": "markdown",
            "metadata": {},
            "source": [
                "### Write configuration in Excel file and calculate batteries"
            ]
        },
        {
            "cell_type": "code",
            "execution_count": 15,
            "metadata": {},
            "outputs": [
                {
                    "name": "stderr",
                    "output_type": "stream",
                    "text": [
                        "Processing BatPaC configuration in each sheet: 100%|██████████| 7/7 [00:23<00:00,  3.41s/it]\n",
                        "Processing battery configuration in each sheet: 100%|██████████| 5/5 [00:11<00:00,  2.29s/it]\n"
                    ]
                }
            ],
            "source": [
                "batpac_excel.calculate()\n"
            ]
        },
        {
            "attachments": {},
            "cell_type": "markdown",
            "metadata": {},
            "source": [
                "### Print calculation and validation results"
            ]
        },
        {
            "cell_type": "code",
            "execution_count": 16,
            "metadata": {},
            "outputs": [
                {
                    "name": "stdout",
                    "output_type": "stream",
                    "text": [
                        "+----------------------------------------------+-----------------------------+-----------------------------+-----------------------------+-----------------------------+-----------------------------+-----------------------------+-----------------------------+\n",
                        "| Parameter                                    |          Battery 1          |          Battery 2          |          Battery 3          |          Battery 4          |          Battery 5          |          Battery 6          |          Battery 7          |\n",
                        "+----------------------------------------------+-----------------------------+-----------------------------+-----------------------------+-----------------------------+-----------------------------+-----------------------------+-----------------------------+\n",
                        "| Configuration Errors (see table to right)    |          1, 2, 3, 4         |           2, 3, 4           |             3, 4            |             3, 4            |             3, 4            |             3, 4            |             3, 4            |\n",
                        "| Configuration Warnings (see table  to right) |             6, 7            |             6, 7            |              7              |              7              |              7              |              7              |              7              |\n",
                        "| Plant Size, GWh                              |             15.0            |             20.0            |             25.0            |             30.0            |             35.0            |             40.0            |             45.0            |\n",
                        "| Power-to-energy ratio                        |      3.3333333333333335     |             5.0             |             6.0             |      6.666666666666667      |      7.142857142857143      |             7.5             |      7.777777777777778      |\n",
                        "| Adequacy of cooling                          |             None            |             Poor            |          Excellent          |          Excellent          |          Excellent          |          Excellent          |          Excellent          |\n",
                        "| Cathode thickness limited by                 | Positive Thickness Override | Positive Thickness Override | Positive Thickness Override | Positive Thickness Override | Positive Thickness Override | Positive Thickness Override | Positive Thickness Override |\n",
                        "+----------------------------------------------+-----------------------------+-----------------------------+-----------------------------+-----------------------------+-----------------------------+-----------------------------+-----------------------------+\n"
                    ]
                },
                {
                    "data": {
                        "text/plain": [
                            "{'Parameter': ['Battery 1',\n",
                            "  'Battery 2',\n",
                            "  'Battery 3',\n",
                            "  'Battery 4',\n",
                            "  'Battery 5',\n",
                            "  'Battery 6',\n",
                            "  'Battery 7'],\n",
                            " 'Configuration Errors (see table to right)': ['1, 2, 3, 4',\n",
                            "  '2, 3, 4',\n",
                            "  '3, 4',\n",
                            "  '3, 4',\n",
                            "  '3, 4',\n",
                            "  '3, 4',\n",
                            "  '3, 4'],\n",
                            " 'Configuration Warnings (see table  to right)': ['6, 7',\n",
                            "  '6, 7',\n",
                            "  '7',\n",
                            "  '7',\n",
                            "  '7',\n",
                            "  '7',\n",
                            "  '7'],\n",
                            " 'Plant Size, GWh': [15.0, 20.0, 25.0, 30.0, 35.0, 40.0, 45.0],\n",
                            " 'Power-to-energy ratio': [3.3333333333333335,\n",
                            "  5.0,\n",
                            "  6.0,\n",
                            "  6.666666666666667,\n",
                            "  7.142857142857143,\n",
                            "  7.5,\n",
                            "  7.777777777777778],\n",
                            " 'Adequacy of cooling': [None,\n",
                            "  'Poor',\n",
                            "  'Excellent',\n",
                            "  'Excellent',\n",
                            "  'Excellent',\n",
                            "  'Excellent',\n",
                            "  'Excellent'],\n",
                            " 'Cathode thickness limited by': ['Positive Thickness Override',\n",
                            "  'Positive Thickness Override',\n",
                            "  'Positive Thickness Override',\n",
                            "  'Positive Thickness Override',\n",
                            "  'Positive Thickness Override',\n",
                            "  'Positive Thickness Override',\n",
                            "  'Positive Thickness Override']}"
                        ]
                    },
                    "execution_count": 16,
                    "metadata": {},
                    "output_type": "execute_result"
                }
            ],
            "source": [
                "batpac_excel.read_calculation_and_validation_results()\n"
            ]
        },
        {
            "attachments": {},
            "cell_type": "markdown",
            "metadata": {},
            "source": [
                "### Read additional cells"
            ]
        },
        {
            "cell_type": "code",
            "execution_count": 17,
            "metadata": {},
            "outputs": [],
            "source": [
                "user_results = batpac_excel.read_from_user_input(\n",
                "    additional_user_defined_results_cells\n",
                ")"
            ]
        },
        {
            "cell_type": "code",
            "execution_count": 18,
            "metadata": {},
            "outputs": [
                {
                    "data": {
                        "text/plain": [
                            "{'Battery System Parameters, Battery System Configuration and Performance, Number of battery packs': 1.0,\n",
                            " 'Battery System Parameters, Battery System Configuration and Performance, Packs in series or parallel': ' ',\n",
                            " 'Battery System Parameters, Battery System Configuration and Performance, Battery system average OCV, V': 0.018566024423153638,\n",
                            " 'Battery System Parameters, Battery System Configuration and Performance, Battery system nominal operating voltage, V': 0.018564285815460716,\n",
                            " 'Battery System Parameters, Battery System Configuration and Performance, Battery system capacity, Ah': 1.0,\n",
                            " 'Battery System Parameters, Battery System Configuration and Performance, Battery system total energy, kWh': 1.8564285815460716e-05,\n",
                            " 'Battery System Parameters, Battery System Configuration and Performance, Battery system useable energy, kWh(Useable)': 1.5779642943141607e-05,\n",
                            " 'Battery System Parameters, Battery System Configuration and Performance, Battery system power at target % OCV, kW': None,\n",
                            " 'Battery System Parameters, Battery System Configuration and Performance, Battery system rated power, kW': None,\n",
                            " 'Battery System Parameters, Battery System Configuration and Performance, Target SOC at full power, %': 20.0,\n",
                            " 'Battery System Parameters, Battery System Configuration and Performance, Pulse time at rated power, s': 10.0,\n",
                            " 'Battery System Parameters, Battery System Configuration and Performance, % OCV at rated power (adjusted for thickness limit), %': None,\n",
                            " 'Battery System Parameters, Battery System Configuration and Performance, Cooling system power requirement, W': 0.8000000565010171,\n",
                            " 'Battery System Parameters, Battery System Size, Battery system volume (all packs and cooling), L': 3.394022710975972,\n",
                            " 'Battery System Parameters, Battery System Size, Battery system mass (all packs and cooling), kg': 7299.14736179489,\n",
                            " 'Battery System Parameters, Battery System Metrics, Battery system energy density, Wh/L': 0.005469699939079795,\n",
                            " 'Battery System Parameters, Battery System Metrics, Battery system specific energy, Wh/kg': 2.5433499140775923e-06,\n",
                            " 'Battery System Parameters, Battery System Metrics, Battery system useable energy density, Wh(Useable)/L': 0.004649244948217826,\n",
                            " 'Battery System Parameters, Battery System Metrics, Battery system useable specific energy, Wh(Useable)/kg': 2.161847426965953e-06,\n",
                            " 'Pack Parameters, Pack Configuration and Performance, Number of cells per pack': 100.0,\n",
                            " 'Pack Parameters, Pack Configuration and Performance, Number of modules per pack': 20.0,\n",
                            " 'Pack Parameters, Pack Configuration and Performance, Pack average OCV, V': 0.018566024423153638,\n",
                            " 'Pack Parameters, Pack Configuration and Performance, Pack nominal operating voltage, V': 0.018564285815460716,\n",
                            " 'Pack Parameters, Pack Configuration and Performance, Pack capacity, Ah': 1.0,\n",
                            " 'Pack Parameters, Pack Configuration and Performance, Pack total energy, kWh': 1.8564285815460716e-05,\n",
                            " 'Pack Parameters, Pack Configuration and Performance, Pack useable energy, kWh(Useable)': 1.5779642943141607e-05,\n",
                            " 'Pack Parameters, Pack Configuration and Performance, Pack power at target %OCV, kW': None,\n",
                            " 'Pack Parameters, Pack Configuration and Performance, Pack power at rated power, kW': None,\n",
                            " 'Pack Parameters, Pack Size, Pack length, mm': 135.43000396660992,\n",
                            " 'Pack Parameters, Pack Size, Pack width, mm': 238.6562299443792,\n",
                            " 'Pack Parameters, Pack Size, Pack height, mm': 46.61652570176675,\n",
                            " 'Pack Parameters, Pack Size, Pack volume, L': 2.594022710975972,\n",
                            " 'Pack Parameters, Pack Size, Pack total mass, kg': 7297.14736179489,\n",
                            " 'Pack Parameters, Pack Metrics, Pack power to energy ratio (with respect to power at target %OCV)': None,\n",
                            " 'Pack Parameters, Pack Metrics, Pack power to energy ratio (with respect to rated power)': None,\n",
                            " 'Pack Parameters, Pack Metrics, Pack energy density, Wh/L': 0.007156562560886797,\n",
                            " 'Pack Parameters, Pack Metrics, Pack specific energy, Wh/kg': 2.544046994673057e-06,\n",
                            " 'Pack Parameters, Pack Metrics, Pack useable energy density, Wh(Useable)/L': 0.006083078176753777,\n",
                            " 'Pack Parameters, Pack Metrics, Pack useable specific energy, Wh(Useable)/kg': 2.1624399454720983e-06,\n",
                            " 'Module Parameters, Module Configuration and Performance, Number of cells per module': 5.0,\n",
                            " 'Module Parameters, Module Configuration and Performance, Module average OCV, V': 9.28301221157682,\n",
                            " 'Module Parameters, Module Configuration and Performance, Module nominal operating voltage, V': 9.282142907730357,\n",
                            " 'Module Parameters, Module Configuration and Performance, Module capacity, Ah': 0.0001,\n",
                            " 'Module Parameters, Module Configuration and Performance, Module total energy, kWh': 9.282142907730357e-07,\n",
                            " 'Module Parameters, Module Configuration and Performance, Module useable energy, kWh(Useable)': 7.889821471570804e-07,\n",
                            " 'Module Parameters, Module Configuration and Performance, Module power at target %OCV, kW': None,\n",
                            " 'Module Parameters, Module Configuration and Performance, Module power at rated power, kW': 5.0,\n",
                            " 'Module Parameters, Module Size, Module length, mm': 39.4140574860948,\n",
                            " 'Module Parameters, Module Size, Module width, mm': 7.526000793321984,\n",
                            " 'Module Parameters, Module Size, Module height, mm': 6.416525701766749,\n",
                            " 'Module Parameters, Module Size, Module volume, L': 0.001903335481295098,\n",
                            " 'Module Parameters, Module Size, Module volume per pack, L': 0.03806670962590196,\n",
                            " 'Module Parameters, Module Size, Module mass, kg': 0.246324823270405,\n",
                            " 'Module Parameters, Module Size, Module mass per pack, kg': None,\n",
                            " 'Module Parameters, Module Metrics, Module energy density, Wh/L': 0.4876777109947245,\n",
                            " 'Module Parameters, Module Metrics, Module specific energy, Wh/kg': 0.003768253148218364,\n",
                            " 'Module Parameters, Module Metrics, Module useable energy density, Wh(Useable)/L': 0.41452605434551587,\n",
                            " 'Module Parameters, Module Metrics, Module useable specific energy, Wh(Useable)/kg': 0.0032030151759856094,\n",
                            " 'Cell Parameters, Cell Performance, Cell average OCV, V': 3.7132048846307275,\n",
                            " 'Cell Parameters, Cell Performance, Cell nominal operating voltage, V': 3.712857163092143,\n",
                            " 'Cell Parameters, Cell Performance, Cell capacity, Ah': 5e-05,\n",
                            " 'Cell Parameters, Cell Performance, Cell total energy, kWh': 1.8564285815460715e-07,\n",
                            " 'Cell Parameters, Cell Performance, Cell useable energy, kWh(Useable)': 1.5779642943141608e-07,\n",
                            " 'Cell Parameters, Cell Performance, Cell power at target %OCV, kW': None,\n",
                            " 'Cell Parameters, Cell Performance, Cell power at rated power, kW': 1.0,\n",
                            " 'Cell Parameters, Cell Size,Cell length, mm': 31.414057486094798,\n",
                            " 'Cell Parameters, Cell Size,Cell width, mm': 5.016525701766749,\n",
                            " 'Cell Parameters, Cell Size,Cell thickness, mm': 0.985200158664397,\n",
                            " 'Cell Parameters, Cell Size,Cell volume, L': 0.00015525712826332266,\n",
                            " 'Cell Parameters, Cell Size,Cell volume per pack, L': 0.015525712826332265,\n",
                            " 'Cell Parameters, Cell Size,Cell mass, kg': 0.005592092736653802,\n",
                            " 'Cell Parameters, Cell Size,Cell mass per pack, kg': 0.5592092736653802,\n",
                            " 'Cell Parameters, Cell Metrics, Cell energy density, Wh/L': 1.1957123014651476,\n",
                            " 'Cell Parameters, Cell Metrics, Cell specific energy, Wh/kg': 0.03319738546855576,\n",
                            " 'Cell Parameters, Cell Metrics, Cell useable energy density, Wh(Useable)/L': 1.0163554562453756,\n",
                            " 'Cell Parameters, Cell Metrics, Cell useable specific energy, Wh(Useable)/kg': 0.028217777648272397,\n",
                            " 'Cell Parameters, Additional Cell Information, Positive electrode thickness, µm': 1.0,\n",
                            " 'Cell Parameters, Additional Cell Information, Negative electrode thickness, µm': 1.2708328050734725,\n",
                            " 'Cell Parameters, Additional Cell Information, Positive electode areal capacity, mAh/cm²': 0.06715929876651021,\n",
                            " 'Cell Parameters, Additional Cell Information, Negative electrode areal capacity, mAh/cm²': 0.07387522864316123,\n",
                            " 'Plant Size, GWh': 9.28214290773036e-06,\n",
                            " 'Packs manufactured at 100% utilization (pack/year)': 500000.0,\n",
                            " 'Packs manufactured per year (packs/year)': 500000.0,\n",
                            " 'Modules manufactured per year (modules/year)': 10000000.0,\n",
                            " 'Accepted cells manufactured per year (cells/year)': 50000000.0,\n",
                            " 'Costs, Battery System, Battery system cost, $': 64189.13081651255,\n",
                            " 'Costs, Battery System, Battery system cost, $/kWh': 3457667666.5392933,\n",
                            " 'Costs, Battery System, Battery system cost, $/kWh(Useable)': 4067844313.5756392,\n",
                            " 'Costs, Pack, Pack cost, $/pack': 64149.13081651255,\n",
                            " 'Costs, Pack, Pack cost, $/kWh': 3455512991.676084,\n",
                            " 'Costs, Pack, Pack cost, $/kWh(Useable)': 4065309401.971864,\n",
                            " 'Costs, Module, Module cost, $/module': 17.483749363686577,\n",
                            " 'Costs, Module, Module cost per pack, $/pack': 349.6749872737315,\n",
                            " 'Costs, Module, Module cost, $/kWh': 18835897.634290628,\n",
                            " 'Costs, Module, Module cost, $/kWh(Useable)': 22159879.56975368,\n",
                            " 'Costs, Cell, Cell cost, $/cell': 1.0621389125194394,\n",
                            " 'Costs, Cell, Cell cost, $/module': 5.310694562597197,\n",
                            " 'Costs, Cell, Cell cost, $/pack': 106.21389125194393,\n",
                            " 'Costs, Cell, Cell cost, $/kWh': 5721410.040104362,\n",
                            " 'Costs, Cell, Cell cost, $/kWh(Useable)': 6731070.635416897,\n",
                            " 'Costs, Additional Considerations, Module fraction of pack cost': 0.005450969994806572,\n",
                            " 'Costs, Additional Considerations, Cell fraction of module cost': 0.3037503256382416,\n",
                            " 'Costs, Additional Considerations, Cell fraction of pack cost': 0.0016557339109667803}"
                        ]
                    },
                    "execution_count": 18,
                    "metadata": {},
                    "output_type": "execute_result"
                }
            ],
            "source": [
                "user_results[\"Summary of Results\"][\"Battery 1\"]\n"
            ]
        },
        {
            "attachments": {},
            "cell_type": "markdown",
            "metadata": {},
            "source": [
                "### Save configuration from Excel"
            ]
        },
        {
            "cell_type": "code",
            "execution_count": 19,
            "metadata": {},
            "outputs": [
                {
                    "name": "stderr",
                    "output_type": "stream",
                    "text": [
                        "Saving BatPaC config from each sheet: 100%|██████████| 7/7 [00:00<00:00, 17772.47it/s]\n",
                        "Saving battery configuration for each battery: 100%|██████████| 7/7 [00:00<00:00, 9045.02it/s]\n"
                    ]
                }
            ],
            "source": [
                "batpac_excel.save_config(\n",
                "    batpac_path=\"./example_data/conf_batpac/saved_batpac_config.toml\",\n",
                "    battery_path=\"./example_data/conf_batpac/saved_batteries_config.toml\",\n",
                ")\n"
            ]
        },
        {
            "attachments": {},
            "cell_type": "markdown",
            "metadata": {},
            "source": [
                "## Save Excel file"
            ]
        },
        {
            "cell_type": "code",
            "execution_count": 20,
            "metadata": {},
            "outputs": [],
            "source": [
                "batpac_excel.save(\"./example_data/excel_workbooks/saved_BatPaC.xlsm\")\n"
            ]
        },
        {
            "attachments": {},
            "cell_type": "markdown",
            "metadata": {},
            "source": [
                "## Close Excel file"
            ]
        },
        {
            "cell_type": "code",
            "execution_count": 21,
            "metadata": {},
            "outputs": [
                {
                    "data": {
                        "text/plain": [
                            "True"
                        ]
                    },
                    "execution_count": 21,
                    "metadata": {},
                    "output_type": "execute_result"
                }
            ],
            "source": [
                "batpac_excel.close()\n"
            ]
        }
    ],
    "metadata": {
        "kernelspec": {
            "display_name": "Python 3",
            "language": "python",
            "name": "python3"
        },
        "language_info": {
            "codemirror_mode": {
                "name": "ipython",
                "version": 3
            },
            "file_extension": ".py",
            "mimetype": "text/x-python",
            "name": "python",
            "nbconvert_exporter": "python",
            "pygments_lexer": "ipython3",
            "version": "3.10.10"
        },
        "nbsphinx": {
            "execute": "never"
        }
    },
    "nbformat": 4,
    "nbformat_minor": 4
}
