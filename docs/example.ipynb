{
    "cells": [
        {
            "attachments": {},
            "cell_type": "markdown",
            "metadata": {},
            "source": [
                "# Example usage of BatPy\n",
                "To use `batpy` in a project:"
            ]
        },
        {
            "attachments": {},
            "cell_type": "markdown",
            "metadata": {},
            "source": [
                "## Import"
            ]
        },
        {
            "cell_type": "code",
            "execution_count": null,
            "metadata": {},
            "outputs": [],
            "source": [
                "from batpy.batpac_battery import BatpacBattery\n",
                "from batpy.batpac_tool import BatpacTool\n",
                "from batpy import datasets"
            ]
        },
        {
            "attachments": {},
            "cell_type": "markdown",
            "metadata": {},
            "source": [
                "## Paths to TOML configurations"
            ]
        },
        {
            "cell_type": "code",
            "execution_count": null,
            "metadata": {},
            "outputs": [],
            "source": [
                "BATPY_BATPAC_EXCEL = \"./example_data/batpac.xlsm\"\n",
                "\n",
                "BATPY_BATPAC_BATTERY_CONFIG = \"./example_data/batpy_batteries_config.toml\"\n",
                "BATPY_BATPAC_USER_INPUT_CONFIG = (\n",
                "    \"./example_data/batpy_batpac_user_input_cells.toml\"\n",
                ")\n",
                "BATPY_BATPAC_TOOL_CONFIG = \"./example_data/batpy_batpac_config.toml\"\n",
                "\n",
                "BATPY_BATPAC_TOOL_CALCULATION_VALIDATION_CONFIG = (\n",
                "    \"./example_data/batpy_batpac_calculation_and_validation_results.toml\"\n",
                ")\n",
                "\n",
                "ADDITIONAL_USER_DEFINED_RESULTS_CELLS = (\n",
                "    \"./example_data/batpy_batpac_summary_of_results.toml\"\n",
                ")"
            ]
        },
        {
            "attachments": {},
            "cell_type": "markdown",
            "metadata": {},
            "source": [
                "## Get included datasets"
            ]
        },
        {
            "attachments": {},
            "cell_type": "markdown",
            "metadata": {},
            "source": [
                "Show available versions:"
            ]
        },
        {
            "cell_type": "code",
            "execution_count": null,
            "metadata": {},
            "outputs": [],
            "source": [
                "datasets.get_available_batpy_dataset_versions()\n"
            ]
        },
        {
            "attachments": {},
            "cell_type": "markdown",
            "metadata": {},
            "source": [
                "Show latest version:"
            ]
        },
        {
            "cell_type": "code",
            "execution_count": null,
            "metadata": {},
            "outputs": [],
            "source": [
                "datasets.get_latest_batpy_dataset_version()\n"
            ]
        },
        {
            "attachments": {},
            "cell_type": "markdown",
            "metadata": {},
            "source": [
                "Show available dataset of specified version (default latest):"
            ]
        },
        {
            "cell_type": "code",
            "execution_count": null,
            "metadata": {},
            "outputs": [],
            "source": [
                "datasets.get_available_batpy_dataset_names()\n"
            ]
        },
        {
            "attachments": {},
            "cell_type": "markdown",
            "metadata": {},
            "source": [
                "Load included dataset:"
            ]
        },
        {
            "cell_type": "code",
            "execution_count": null,
            "metadata": {},
            "outputs": [],
            "source": [
                "batpy_batpac_battery_design = datasets.get_batpy_dataset(\n",
                "    \"batpy_batpac_battery_design\", \"0.1.0\"\n",
                ")"
            ]
        },
        {
            "attachments": {},
            "cell_type": "markdown",
            "metadata": {},
            "source": [
                "## Batteries\n",
                "### Create batteries"
            ]
        },
        {
            "cell_type": "code",
            "execution_count": null,
            "metadata": {},
            "outputs": [],
            "source": [
                "bat1 = BatpacBattery(\"Battery 1\")\n",
                "bat2 = BatpacBattery(\"Battery 2\")\n",
                "bat3 = BatpacBattery(\"Battery 3\")\n",
                "bat4 = BatpacBattery(\"Battery 4\")\n",
                "bat5 = BatpacBattery(\"Battery 5\")\n",
                "bat6 = BatpacBattery(\"Battery 6\")\n",
                "bat7 = BatpacBattery(\"Battery 7\")"
            ]
        },
        {
            "attachments": {},
            "cell_type": "markdown",
            "metadata": {},
            "source": [
                "### Change battery properties\n",
                "a) Write individual properties for created batteries"
            ]
        },
        {
            "cell_type": "code",
            "execution_count": null,
            "metadata": {},
            "outputs": [],
            "source": [
                "bat1.set_new_property(\"Dashboard\", \"Number of modules in parallel\", 10)"
            ]
        },
        {
            "attachments": {},
            "cell_type": "markdown",
            "metadata": {},
            "source": [
                "b) Load individiual battery configuration from file"
            ]
        },
        {
            "cell_type": "code",
            "execution_count": null,
            "metadata": {},
            "outputs": [],
            "source": [
                "bat2.load_battery_file(BATPY_BATPAC_BATTERY_CONFIG, \"Battery 2\")"
            ]
        },
        {
            "attachments": {},
            "cell_type": "markdown",
            "metadata": {},
            "source": [
                "## BatPaC tool\n",
                "### Create BatPaC instance"
            ]
        },
        {
            "cell_type": "code",
            "execution_count": null,
            "metadata": {},
            "outputs": [],
            "source": [
                "battery_calculation = BatpacTool(\n",
                "    BATPY_BATPAC_EXCEL,\n",
                "    BATPY_BATPAC_USER_INPUT_CONFIG,\n",
                "    BATPY_BATPAC_TOOL_CALCULATION_VALIDATION_CONFIG,\n",
                "    excel_visible=True,\n",
                ")"
            ]
        },
        {
            "attachments": {},
            "cell_type": "markdown",
            "metadata": {},
            "source": [
                "### Add batteries to BatPaC object\n",
                "a) Add individual batteries"
            ]
        },
        {
            "cell_type": "code",
            "execution_count": null,
            "metadata": {},
            "outputs": [],
            "source": [
                "battery_calculation.add_battery(\n",
                "    [\n",
                "        bat1,\n",
                "        bat2,\n",
                "        bat3,\n",
                "        bat4,\n",
                "        bat5,\n",
                "        bat6,\n",
                "        bat7,\n",
                "    ]\n",
                ")"
            ]
        },
        {
            "attachments": {},
            "cell_type": "markdown",
            "metadata": {},
            "source": [
                "b) Add individual batteries and load their configuration file (will overwrite all batteries)"
            ]
        },
        {
            "cell_type": "code",
            "execution_count": null,
            "metadata": {},
            "outputs": [],
            "source": [
                "battery_calculation.load_batteries_file(\n",
                "    BATPY_BATPAC_BATTERY_CONFIG,\n",
                "    [\n",
                "        bat1,\n",
                "        bat2,\n",
                "        bat3,\n",
                "        bat4,\n",
                "        bat5,\n",
                "        bat6,\n",
                "        bat7,\n",
                "    ],\n",
                ")"
            ]
        },
        {
            "attachments": {},
            "cell_type": "markdown",
            "metadata": {},
            "source": [
                "### Load configuration file for BatPaC instance"
            ]
        },
        {
            "cell_type": "code",
            "execution_count": null,
            "metadata": {},
            "outputs": [],
            "source": [
                "battery_calculation.load_batpac_file(BATPY_BATPAC_TOOL_CONFIG)"
            ]
        },
        {
            "attachments": {},
            "cell_type": "markdown",
            "metadata": {},
            "source": [
                "### Write configuration in Excel file and calculate batteries"
            ]
        },
        {
            "cell_type": "code",
            "execution_count": null,
            "metadata": {},
            "outputs": [],
            "source": [
                "battery_calculation.calculate()"
            ]
        },
        {
            "attachments": {},
            "cell_type": "markdown",
            "metadata": {},
            "source": [
                "### Print calculation and validation results"
            ]
        },
        {
            "cell_type": "code",
            "execution_count": null,
            "metadata": {},
            "outputs": [],
            "source": [
                "battery_calculation.read_calculation_and_validation_results()"
            ]
        },
        {
            "attachments": {},
            "cell_type": "markdown",
            "metadata": {},
            "source": [
                "### Read additional cells"
            ]
        },
        {
            "attachments": {},
            "cell_type": "markdown",
            "metadata": {},
            "source": [
                "#### From file path"
            ]
        },
        {
            "cell_type": "code",
            "execution_count": null,
            "metadata": {},
            "outputs": [],
            "source": [
                "user_results = battery_calculation.read_from_user_input(\n",
                "    ADDITIONAL_USER_DEFINED_RESULTS_CELLS\n",
                ")\n",
                "user_results\n"
            ]
        },
        {
            "cell_type": "code",
            "execution_count": null,
            "metadata": {},
            "outputs": [],
            "source": [
                "user_results[\"Summary of Results\"][\"Battery 1\"]"
            ]
        },
        {
            "attachments": {},
            "cell_type": "markdown",
            "metadata": {},
            "source": [
                "#### b) From included configuration"
            ]
        },
        {
            "cell_type": "code",
            "execution_count": null,
            "metadata": {},
            "outputs": [],
            "source": [
                "user_results_included_configuration = battery_calculation.read_from_user_input(\n",
                "    batpy_batpac_battery_design\n",
                ")\n",
                "user_results_included_configuration\n"
            ]
        },
        {
            "cell_type": "code",
            "execution_count": null,
            "metadata": {},
            "outputs": [],
            "source": [
                "user_results_included_configuration[\"Battery Design\"][\"Battery 1\"]"
            ]
        },
        {
            "attachments": {},
            "cell_type": "markdown",
            "metadata": {},
            "source": [
                "### Save configuration from Excel"
            ]
        },
        {
            "cell_type": "code",
            "execution_count": null,
            "metadata": {},
            "outputs": [],
            "source": [
                "battery_calculation.save_config(\n",
                "    batpac_path=\"./example_data/saved_batpac_config.toml\",\n",
                "    battery_path=\"./example_data/saved_batteries_config.toml\",\n",
                ")"
            ]
        },
        {
            "attachments": {},
            "cell_type": "markdown",
            "metadata": {},
            "source": [
                "## Save Excel file"
            ]
        },
        {
            "cell_type": "code",
            "execution_count": null,
            "metadata": {},
            "outputs": [],
            "source": [
                "battery_calculation.save(\"./example_data/saved_BatPaC.xlsm\")"
            ]
        },
        {
            "attachments": {},
            "cell_type": "markdown",
            "metadata": {},
            "source": [
                "## Close Excel file"
            ]
        },
        {
            "cell_type": "code",
            "execution_count": null,
            "metadata": {},
            "outputs": [],
            "source": [
                "battery_calculation.close()"
            ]
        },
        {
            "attachments": {},
            "cell_type": "markdown",
            "metadata": {},
            "source": [
                "# Example usage of BatPy's brightway2 export"
            ]
        },
        {
            "attachments": {},
            "cell_type": "markdown",
            "metadata": {},
            "source": [
                "## Import"
            ]
        },
        {
            "cell_type": "code",
            "execution_count": null,
            "metadata": {},
            "outputs": [],
            "source": [
                "from batpy.batpac_battery import BatpacBattery\n",
                "from batpy.batpac_tool import BatpacTool\n",
                "from batpy import datasets\n",
                "from batpy.brightway import BrightwayConnector\n",
                "from batpy.utility_functions import combine_configuration\n",
                "from pathlib import Path"
            ]
        },
        {
            "attachments": {},
            "cell_type": "markdown",
            "metadata": {},
            "source": [
                "## Paths to TOML configurations"
            ]
        },
        {
            "cell_type": "code",
            "execution_count": null,
            "metadata": {},
            "outputs": [],
            "source": [
                "BATPY_BATPAC_EXCEL = Path(\"./example_data/batpac.xlsm\")\n",
                "BRIGHTWAY2_EXCEL = \"./example_data/BatPaC-Brightway.xlsx\"\n"
            ]
        },
        {
            "attachments": {},
            "cell_type": "markdown",
            "metadata": {},
            "source": [
                "## Get included datasets"
            ]
        },
        {
            "attachments": {},
            "cell_type": "markdown",
            "metadata": {},
            "source": [
                "Show available dataset of specified version (default latest):"
            ]
        },
        {
            "cell_type": "code",
            "execution_count": null,
            "metadata": {},
            "outputs": [],
            "source": [
                "datasets.get_available_batpy_dataset_names()\n"
            ]
        },
        {
            "attachments": {},
            "cell_type": "markdown",
            "metadata": {},
            "source": [
                "Load included dataset for brightway2 configuration"
            ]
        },
        {
            "cell_type": "code",
            "execution_count": null,
            "metadata": {},
            "outputs": [],
            "source": [
                "brightway2_config = datasets.get_batpy_dataset(\"batpy_batpac2brightway\")"
            ]
        },
        {
            "attachments": {},
            "cell_type": "markdown",
            "metadata": {},
            "source": [
                "Load multiple included datasets for BatPaC configuration and combine them:"
            ]
        },
        {
            "cell_type": "code",
            "execution_count": null,
            "metadata": {},
            "outputs": [],
            "source": [
                "batpy_batpac_dataset = combine_configuration(\n",
                "    [\n",
                "        datasets.get_batpy_dataset(\"batpy_batpac_battery_design\"),\n",
                "        datasets.get_batpy_dataset(\"batpy_batpac_summary_of_results\"),\n",
                "    ]\n",
                ")\n"
            ]
        },
        {
            "attachments": {},
            "cell_type": "markdown",
            "metadata": {},
            "source": [
                "## Batteries\n",
                "### Create batteries"
            ]
        },
        {
            "cell_type": "code",
            "execution_count": null,
            "metadata": {},
            "outputs": [],
            "source": [
                "bat1 = BatpacBattery(\"Battery 1\")\n",
                "bat2 = BatpacBattery(\"Battery 2\")\n",
                "bat3 = BatpacBattery(\"Battery 3\")\n",
                "bat4 = BatpacBattery(\"Battery 4\")\n",
                "bat5 = BatpacBattery(\"Battery 5\")\n",
                "bat6 = BatpacBattery(\"Battery 6\")\n",
                "bat7 = BatpacBattery(\"Battery 7\")"
            ]
        },
        {
            "attachments": {},
            "cell_type": "markdown",
            "metadata": {},
            "source": [
                "## BatPaC tool\n",
                "### Create BatPaC instance"
            ]
        },
        {
            "cell_type": "code",
            "execution_count": null,
            "metadata": {},
            "outputs": [],
            "source": [
                "battery_calculation = BatpacTool(\n",
                "    BATPY_BATPAC_EXCEL,\n",
                "    datasets.get_batpy_dataset(\"batpy_batpac_user_input_cells\"),\n",
                "    excel_visible=True,\n",
                ")\n"
            ]
        },
        {
            "attachments": {},
            "cell_type": "markdown",
            "metadata": {},
            "source": [
                "### Add batteries to BatPaC object"
            ]
        },
        {
            "cell_type": "code",
            "execution_count": null,
            "metadata": {},
            "outputs": [],
            "source": [
                "battery_calculation.add_battery(\n",
                "    [\n",
                "        bat1,\n",
                "        bat2,\n",
                "        bat3,\n",
                "        bat4,\n",
                "        bat5,\n",
                "        bat6,\n",
                "        bat7,\n",
                "    ]\n",
                ")"
            ]
        },
        {
            "attachments": {},
            "cell_type": "markdown",
            "metadata": {},
            "source": [
                "## Brightway2 connector\n",
                "### Create brightway2 instance"
            ]
        },
        {
            "cell_type": "code",
            "execution_count": null,
            "metadata": {},
            "outputs": [],
            "source": [
                "brightway_connector = BrightwayConnector(BRIGHTWAY2_EXCEL, True)"
            ]
        },
        {
            "attachments": {},
            "cell_type": "markdown",
            "metadata": {},
            "source": [
                "Load brightway2 configuration"
            ]
        },
        {
            "cell_type": "code",
            "execution_count": null,
            "metadata": {},
            "outputs": [],
            "source": [
                "brightway_connector.load_batpac_to_brightway_configuration(brightway2_config)"
            ]
        },
        {
            "attachments": {},
            "cell_type": "markdown",
            "metadata": {},
            "source": [
                "Export BatPaC battery data in brightway2 Excel"
            ]
        },
        {
            "cell_type": "code",
            "execution_count": null,
            "metadata": {},
            "outputs": [],
            "source": [
                "brightway_connector.export_batpac_battery_to_brightway(\n",
                "    batpac=battery_calculation,\n",
                "    battery=bat1,\n",
                "    batpac_config=batpy_batpac_dataset,\n",
                ")\n"
            ]
        },
        {
            "attachments": {},
            "cell_type": "markdown",
            "metadata": {},
            "source": [
                "## Save Excel file"
            ]
        },
        {
            "cell_type": "code",
            "execution_count": null,
            "metadata": {},
            "outputs": [],
            "source": [
                "brightway_connector.save(\"./example_data/saved_BatPaC-Brightway.xlsx\")"
            ]
        },
        {
            "attachments": {},
            "cell_type": "markdown",
            "metadata": {},
            "source": [
                "## Close Excel file"
            ]
        },
        {
            "cell_type": "code",
            "execution_count": null,
            "metadata": {},
            "outputs": [],
            "source": [
                "battery_calculation.close()\n",
                "brightway_connector.close()"
            ]
        }
    ],
    "metadata": {
        "kernelspec": {
            "display_name": "Python 3",
            "language": "python",
            "name": "python3"
        },
        "language_info": {
            "codemirror_mode": {
                "name": "ipython",
                "version": 3
            },
            "file_extension": ".py",
            "mimetype": "text/x-python",
            "name": "python",
            "nbconvert_exporter": "python",
            "pygments_lexer": "ipython3",
            "version": "3.10.10"
        }
    },
    "nbformat": 4,
    "nbformat_minor": 4
}
