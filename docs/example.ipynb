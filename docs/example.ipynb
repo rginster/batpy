{
    "cells": [
        {
            "attachments": {},
            "cell_type": "markdown",
            "metadata": {},
            "source": [
                "# Example usage\n",
                "\n",
                "To use `batpy` in a project:"
            ]
        },
        {
            "attachments": {},
            "cell_type": "markdown",
            "metadata": {},
            "source": [
                "## Import"
            ]
        },
        {
            "cell_type": "code",
            "execution_count": 1,
            "metadata": {},
            "outputs": [],
            "source": [
                "from batpy.batpac_battery import BatpacBattery\n",
                "from batpy.batpac_tool import BatpacTool\n"
            ]
        },
        {
            "cell_type": "code",
            "execution_count": 2,
            "metadata": {},
            "outputs": [],
            "source": [
                "BATPY_BATPAC_EXCEL = \"./example_data/batpac.xlsm\"\n",
                "\n",
                "BATPY_BATPAC_BATTERY_CONFIG = \"./example_data/batpy_batteries_config.toml\"\n",
                "BATPY_BATPAC_USER_INPUT_CONFIG = (\n",
                "    \"./example_data/batpy_batpac_user_input_cells.toml\"\n",
                ")\n",
                "BATPY_BATPAC_TOOL_CONFIG = \"./example_data/batpy_batpac_config.toml\"\n",
                "\n",
                "BATPY_BATPAC_TOOL_CALCULATION_VALIDATION_CONFIG = (\n",
                "    \"./example_data/batpy_batpac_calculation_and_validation_results.toml\"\n",
                ")\n",
                "\n",
                "ADDITIONAL_USER_DEFINED_RESULTS_CELLS = (\n",
                "    \"./example_data/batpy_batpac_additional_user_results.toml\"\n",
                ")\n"
            ]
        },
        {
            "attachments": {},
            "cell_type": "markdown",
            "metadata": {},
            "source": [
                "## Batteries\n",
                "### Create batteries"
            ]
        },
        {
            "cell_type": "code",
            "execution_count": 3,
            "metadata": {},
            "outputs": [],
            "source": [
                "bat1 = BatpacBattery(\"Battery 1\")\n",
                "bat2 = BatpacBattery(\"Battery 2\")\n",
                "bat3 = BatpacBattery(\"Battery 3\")\n",
                "bat4 = BatpacBattery(\"Battery 4\")\n",
                "bat5 = BatpacBattery(\"Battery 5\")\n",
                "bat6 = BatpacBattery(\"Battery 6\")\n",
                "bat7 = BatpacBattery(\"Battery 7\")\n"
            ]
        },
        {
            "attachments": {},
            "cell_type": "markdown",
            "metadata": {},
            "source": [
                "### Change battery properties\n",
                "a) Write individual properties for created batteries"
            ]
        },
        {
            "cell_type": "code",
            "execution_count": 4,
            "metadata": {},
            "outputs": [],
            "source": [
                "bat1.set_new_property(\"Dashboard\", \"Number of modules in parallel\", 10)\n"
            ]
        },
        {
            "attachments": {},
            "cell_type": "markdown",
            "metadata": {},
            "source": [
                "b) Load individiual battery configuration from file"
            ]
        },
        {
            "cell_type": "code",
            "execution_count": 5,
            "metadata": {},
            "outputs": [
                {
                    "data": {
                        "text/plain": [
                            "True"
                        ]
                    },
                    "execution_count": 5,
                    "metadata": {},
                    "output_type": "execute_result"
                }
            ],
            "source": [
                "bat2.load_battery_file(BATPY_BATPAC_BATTERY_CONFIG, \"Battery 2\")\n"
            ]
        },
        {
            "attachments": {},
            "cell_type": "markdown",
            "metadata": {},
            "source": [
                "## BatPaC tool\n",
                "### Create BatPaC instance"
            ]
        },
        {
            "cell_type": "code",
            "execution_count": 6,
            "metadata": {},
            "outputs": [],
            "source": [
                "battery_calculation = BatpacTool(\n",
                "    BATPY_BATPAC_EXCEL,\n",
                "    BATPY_BATPAC_USER_INPUT_CONFIG,\n",
                "    BATPY_BATPAC_TOOL_CALCULATION_VALIDATION_CONFIG,\n",
                "    excel_visible=True,\n",
                ")\n"
            ]
        },
        {
            "attachments": {},
            "cell_type": "markdown",
            "metadata": {},
            "source": [
                "### Add batteries to BatPaC object\n",
                "a) Add individual batteries"
            ]
        },
        {
            "cell_type": "code",
            "execution_count": 7,
            "metadata": {},
            "outputs": [],
            "source": [
                "battery_calculation.add_battery(\n",
                "    [\n",
                "        bat1,\n",
                "        bat2,\n",
                "        bat3,\n",
                "        bat4,\n",
                "        bat5,\n",
                "        bat6,\n",
                "        bat7,\n",
                "    ]\n",
                ")\n"
            ]
        },
        {
            "attachments": {},
            "cell_type": "markdown",
            "metadata": {},
            "source": [
                "b) Add individual batteries and load their configuration file (will overwrite all batteries)"
            ]
        },
        {
            "cell_type": "code",
            "execution_count": 8,
            "metadata": {},
            "outputs": [],
            "source": [
                "battery_calculation.load_batteries_file(\n",
                "    BATPY_BATPAC_BATTERY_CONFIG,\n",
                "    [\n",
                "        bat1,\n",
                "        bat2,\n",
                "        bat3,\n",
                "        bat4,\n",
                "        bat5,\n",
                "        bat6,\n",
                "        bat7,\n",
                "    ],\n",
                ")\n"
            ]
        },
        {
            "attachments": {},
            "cell_type": "markdown",
            "metadata": {},
            "source": [
                "### Load configuration file for BatPaC instance"
            ]
        },
        {
            "cell_type": "code",
            "execution_count": 9,
            "metadata": {},
            "outputs": [],
            "source": [
                "battery_calculation.load_batpac_file(BATPY_BATPAC_TOOL_CONFIG)\n"
            ]
        },
        {
            "attachments": {},
            "cell_type": "markdown",
            "metadata": {},
            "source": [
                "### Write configuration in Excel file and calculate batteries"
            ]
        },
        {
            "cell_type": "code",
            "execution_count": 10,
            "metadata": {},
            "outputs": [],
            "source": [
                "# battery_calculation.calculate()\n"
            ]
        },
        {
            "attachments": {},
            "cell_type": "markdown",
            "metadata": {},
            "source": [
                "### Print calculation and validation results"
            ]
        },
        {
            "cell_type": "code",
            "execution_count": 11,
            "metadata": {},
            "outputs": [
                {
                    "name": "stdout",
                    "output_type": "stream",
                    "text": [
                        "+----------------------------------------------+-----------------------------+-----------------------------+-----------------------------+-----------------------------+-----------------------------+-----------------------------+-----------------------------+\n",
                        "| Parameter                                    |          Battery 1          |          Battery 2          |          Battery 3          |          Battery 4          |          Battery 5          |          Battery 6          |          Battery 7          |\n",
                        "+----------------------------------------------+-----------------------------+-----------------------------+-----------------------------+-----------------------------+-----------------------------+-----------------------------+-----------------------------+\n",
                        "| Configuration Errors (see table to right)    |          1, 2, 3, 4         |           2, 3, 4           |             3, 4            |             3, 4            |             3, 4            |             3, 4            |             3, 4            |\n",
                        "| Configuration Warnings (see table  to right) |             6, 7            |             6, 7            |              7              |              7              |              7              |              7              |              7              |\n",
                        "| Plant Size, GWh                              |             15.0            |             20.0            |             25.0            |             30.0            |             35.0            |             40.0            |             45.0            |\n",
                        "| Power-to-energy ratio                        |      3.3333333333333335     |             5.0             |             6.0             |      6.666666666666667      |      7.142857142857143      |             7.5             |      7.777777777777778      |\n",
                        "| Adequacy of cooling                          |             None            |             Poor            |          Excellent          |          Excellent          |          Excellent          |          Excellent          |          Excellent          |\n",
                        "| Cathode thickness limited by                 | Positive Thickness Override | Positive Thickness Override | Positive Thickness Override | Positive Thickness Override | Positive Thickness Override | Positive Thickness Override | Positive Thickness Override |\n",
                        "+----------------------------------------------+-----------------------------+-----------------------------+-----------------------------+-----------------------------+-----------------------------+-----------------------------+-----------------------------+\n"
                    ]
                },
                {
                    "data": {
                        "text/plain": [
                            "{'Parameter': ['Battery 1',\n",
                            "  'Battery 2',\n",
                            "  'Battery 3',\n",
                            "  'Battery 4',\n",
                            "  'Battery 5',\n",
                            "  'Battery 6',\n",
                            "  'Battery 7'],\n",
                            " 'Configuration Errors (see table to right)': ['1, 2, 3, 4',\n",
                            "  '2, 3, 4',\n",
                            "  '3, 4',\n",
                            "  '3, 4',\n",
                            "  '3, 4',\n",
                            "  '3, 4',\n",
                            "  '3, 4'],\n",
                            " 'Configuration Warnings (see table  to right)': ['6, 7',\n",
                            "  '6, 7',\n",
                            "  '7',\n",
                            "  '7',\n",
                            "  '7',\n",
                            "  '7',\n",
                            "  '7'],\n",
                            " 'Plant Size, GWh': [15.0, 20.0, 25.0, 30.0, 35.0, 40.0, 45.0],\n",
                            " 'Power-to-energy ratio': [3.3333333333333335,\n",
                            "  5.0,\n",
                            "  6.0,\n",
                            "  6.666666666666667,\n",
                            "  7.142857142857143,\n",
                            "  7.5,\n",
                            "  7.777777777777778],\n",
                            " 'Adequacy of cooling': [None,\n",
                            "  'Poor',\n",
                            "  'Excellent',\n",
                            "  'Excellent',\n",
                            "  'Excellent',\n",
                            "  'Excellent',\n",
                            "  'Excellent'],\n",
                            " 'Cathode thickness limited by': ['Positive Thickness Override',\n",
                            "  'Positive Thickness Override',\n",
                            "  'Positive Thickness Override',\n",
                            "  'Positive Thickness Override',\n",
                            "  'Positive Thickness Override',\n",
                            "  'Positive Thickness Override',\n",
                            "  'Positive Thickness Override']}"
                        ]
                    },
                    "execution_count": 11,
                    "metadata": {},
                    "output_type": "execute_result"
                }
            ],
            "source": [
                "battery_calculation.read_calculation_and_validation_results()\n"
            ]
        },
        {
            "attachments": {},
            "cell_type": "markdown",
            "metadata": {},
            "source": [
                "### Read additional cells"
            ]
        },
        {
            "cell_type": "code",
            "execution_count": 14,
            "metadata": {},
            "outputs": [
                {
                    "data": {
                        "text/plain": [
                            "{'Dashboard': {'Restart (0/1)': 1.0,\n",
                            "  'Electrode Couple': 'NMC811-G (Energy)',\n",
                            "  'Positive active material specific capacity, mAh/g': 200.0,\n",
                            "  'Void volume fraction, % of positive electrode': 20.0,\n",
                            "  'Positive foil thickness, mm': 10.0,\n",
                            "  'Maximum positive electrode thickness, µm': 110.0,\n",
                            "  'Negative active material specific capacity, mAh/g': None,\n",
                            "  'N/P capacity ratio after formation': None,\n",
                            "  'Void volume fraction, % of negative electrode': None,\n",
                            "  'Negative current collector thickness, µm': None,\n",
                            "  'Separator thickness, µm': None,\n",
                            "  'Vehicle Type': 'EV',\n",
                            "  'Calculate Charging Requirements?': 'Yes',\n",
                            "  'OEM Upper Cuttoff SOC': None,\n",
                            "  'OEM Lower Cutoff SOC': None,\n",
                            "  'Use default power requirements for vehicle': 'Yes',\n",
                            "  'Al foil, $/m²': None,\n",
                            "  'Cu foil, $/m²': None,\n",
                            "  'Separator, $/m²': None,\n",
                            "  'Electrolyte, $/L': None,\n",
                            "  'Method to calculate plant utilization': 'Method 1: Ignore utilization',\n",
                            "  'Cell yield, % of built cells that pass inspection': 95.0,\n",
                            "  'Method for manufacturing pack': 'All manufacturing in-house (Default)',\n",
                            "  'Option for pack cost': 'Cost to consumer - includes pack profit/warranty (Default)',\n",
                            "  'Unit': 'Absolute',\n",
                            "  'X =': 'Battery system rated power, kW',\n",
                            "  'Y1 =': 'Positive electrode thickness, µm',\n",
                            "  'Y2 =': 'Cell cost, $/kWh',\n",
                            "  'Positive Electrode, $/kg, Active material, $/kg': None,\n",
                            "  'Positive Electrode, $/kg, Carbon additive, $/kg': None,\n",
                            "  'Positive Electrode, $/kg, Binder, $/kg': None,\n",
                            "  'Positive Electrode, $/kg, Solvent (NMP), $/kg': None,\n",
                            "  'Negative electrode, $/kg, Active material, $/kg': None,\n",
                            "  'Negative electrode, $/kg, Carbon additive, $/kg': None,\n",
                            "  'Negative electrode, $/kg, Binder, $/kg': None,\n",
                            "  'Negative electrode, $/kg, Solvent (Water), $/kg': None,\n",
                            "  'Battery 1': {'Configuration Errors (see table to right)': '1, 2, 3, 4',\n",
                            "   'Configuration Warnings (see table  to right)': '6, 7',\n",
                            "   'Plant Size, GWh': 15.0,\n",
                            "   'Power-to-energy ratio': 3.3333333333333335,\n",
                            "   'Adequacy of cooling': None,\n",
                            "   'Cathode thickness limited by': 'Positive Thickness Override'},\n",
                            "  'Battery 2': {'Configuration Errors (see table to right)': '2, 3, 4',\n",
                            "   'Configuration Warnings (see table  to right)': '6, 7',\n",
                            "   'Plant Size, GWh': 20.0,\n",
                            "   'Power-to-energy ratio': 5.0,\n",
                            "   'Adequacy of cooling': 'Poor',\n",
                            "   'Cathode thickness limited by': 'Positive Thickness Override'},\n",
                            "  'Battery 3': {'Configuration Errors (see table to right)': '3, 4',\n",
                            "   'Configuration Warnings (see table  to right)': '7',\n",
                            "   'Plant Size, GWh': 25.0,\n",
                            "   'Power-to-energy ratio': 6.0,\n",
                            "   'Adequacy of cooling': 'Excellent',\n",
                            "   'Cathode thickness limited by': 'Positive Thickness Override'},\n",
                            "  'Battery 4': {'Configuration Errors (see table to right)': '3, 4',\n",
                            "   'Configuration Warnings (see table  to right)': '7',\n",
                            "   'Plant Size, GWh': 30.0,\n",
                            "   'Power-to-energy ratio': 6.666666666666667,\n",
                            "   'Adequacy of cooling': 'Excellent',\n",
                            "   'Cathode thickness limited by': 'Positive Thickness Override'},\n",
                            "  'Battery 5': {'Configuration Errors (see table to right)': '3, 4',\n",
                            "   'Configuration Warnings (see table  to right)': '7',\n",
                            "   'Plant Size, GWh': 35.0,\n",
                            "   'Power-to-energy ratio': 7.142857142857143,\n",
                            "   'Adequacy of cooling': 'Excellent',\n",
                            "   'Cathode thickness limited by': 'Positive Thickness Override'},\n",
                            "  'Battery 6': {'Configuration Errors (see table to right)': '3, 4',\n",
                            "   'Configuration Warnings (see table  to right)': '7',\n",
                            "   'Plant Size, GWh': 40.0,\n",
                            "   'Power-to-energy ratio': 7.5,\n",
                            "   'Adequacy of cooling': 'Excellent',\n",
                            "   'Cathode thickness limited by': 'Positive Thickness Override'},\n",
                            "  'Battery 7': {'Configuration Errors (see table to right)': '3, 4',\n",
                            "   'Configuration Warnings (see table  to right)': '7',\n",
                            "   'Plant Size, GWh': 45.0,\n",
                            "   'Power-to-energy ratio': 7.777777777777778,\n",
                            "   'Adequacy of cooling': 'Excellent',\n",
                            "   'Cathode thickness limited by': 'Positive Thickness Override'}}}"
                        ]
                    },
                    "execution_count": 14,
                    "metadata": {},
                    "output_type": "execute_result"
                }
            ],
            "source": [
                "user_results = battery_calculation.read_from_user_input(\n",
                "    ADDITIONAL_USER_DEFINED_RESULTS_CELLS\n",
                ")\n",
                "user_results"
            ]
        },
        {
            "cell_type": "code",
            "execution_count": 15,
            "metadata": {},
            "outputs": [
                {
                    "data": {
                        "text/plain": [
                            "{'Configuration Errors (see table to right)': '1, 2, 3, 4',\n",
                            " 'Configuration Warnings (see table  to right)': '6, 7',\n",
                            " 'Plant Size, GWh': 15.0,\n",
                            " 'Power-to-energy ratio': 3.3333333333333335,\n",
                            " 'Adequacy of cooling': None,\n",
                            " 'Cathode thickness limited by': 'Positive Thickness Override'}"
                        ]
                    },
                    "execution_count": 15,
                    "metadata": {},
                    "output_type": "execute_result"
                }
            ],
            "source": [
                "user_results[\"Dashboard\"][\"Battery 1\"]\n"
            ]
        },
        {
            "attachments": {},
            "cell_type": "markdown",
            "metadata": {},
            "source": [
                "### Save configuration from Excel"
            ]
        },
        {
            "cell_type": "code",
            "execution_count": null,
            "metadata": {},
            "outputs": [],
            "source": [
                "battery_calculation.save_config(\n",
                "    batpac_path=\"./example_data/saved_batpac_config.toml\",\n",
                "    battery_path=\"./example_data/saved_batteries_config.toml\",\n",
                ")\n"
            ]
        },
        {
            "attachments": {},
            "cell_type": "markdown",
            "metadata": {},
            "source": [
                "## Save Excel file"
            ]
        },
        {
            "cell_type": "code",
            "execution_count": null,
            "metadata": {},
            "outputs": [],
            "source": [
                "battery_calculation.save(\"./example_data/saved_BatPaC.xlsm\")\n"
            ]
        },
        {
            "attachments": {},
            "cell_type": "markdown",
            "metadata": {},
            "source": [
                "## Close Excel file"
            ]
        },
        {
            "cell_type": "code",
            "execution_count": null,
            "metadata": {},
            "outputs": [],
            "source": [
                "battery_calculation.close()\n"
            ]
        }
    ],
    "metadata": {
        "kernelspec": {
            "display_name": "Python 3",
            "language": "python",
            "name": "python3"
        },
        "language_info": {
            "codemirror_mode": {
                "name": "ipython",
                "version": 3
            },
            "file_extension": ".py",
            "mimetype": "text/x-python",
            "name": "python",
            "nbconvert_exporter": "python",
            "pygments_lexer": "ipython3",
            "version": "3.10.10"
        }
    },
    "nbformat": 4,
    "nbformat_minor": 4
}
