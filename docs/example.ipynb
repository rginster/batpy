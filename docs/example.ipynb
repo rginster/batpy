{
    "cells": [
        {
            "cell_type": "markdown",
            "metadata": {},
            "source": [
                "# Example usage\n",
                "\n",
                "To use `batpy` in a project:"
            ]
        },
        {
            "attachments": {},
            "cell_type": "markdown",
            "metadata": {},
            "source": [
                "## Import"
            ]
        },
        {
            "cell_type": "code",
            "execution_count": 1,
            "metadata": {},
            "outputs": [],
            "source": [
                "from batpy.batpac_battery import BatpacBattery\n",
                "from batpy.batpac_tool import BatpacTool\n"
            ]
        },
        {
            "cell_type": "code",
            "execution_count": 2,
            "metadata": {},
            "outputs": [],
            "source": [
                "BATPY_BATPAC_EXCEL = \"./example_data/batpac.xlsm\"\n",
                "\n",
                "BATPY_BATPAC_BATTERY_CONFIG = \"./example_data/batpy_batteries_config.toml\"\n",
                "BATPY_BATPAC_USER_INPUT_CONFIG = (\n",
                "    \"./example_data/batpy_batpac_user_input_cells.toml\"\n",
                ")\n",
                "BATPY_BATPAC_TOOL_CONFIG = \"./example_data/batpy_batpac_config.toml\"\n",
                "\n",
                "BATPY_BATPAC_TOOL_CALCULATION_VALIDATION_CONFIG = (\n",
                "    \"./example_data/batpy_batpac_calculation_and_validation_results.toml\"\n",
                ")"
            ]
        },
        {
            "attachments": {},
            "cell_type": "markdown",
            "metadata": {},
            "source": [
                "## Batteries\n",
                "### Create batteries"
            ]
        },
        {
            "cell_type": "code",
            "execution_count": 3,
            "metadata": {},
            "outputs": [],
            "source": [
                "bat1 = BatpacBattery(\"Battery 1\")\n",
                "bat2 = BatpacBattery(\"Battery 2\")\n",
                "bat3 = BatpacBattery(\"Battery 3\")\n",
                "bat4 = BatpacBattery(\"Battery 4\")\n",
                "bat5 = BatpacBattery(\"Battery 5\")\n",
                "bat6 = BatpacBattery(\"Battery 6\")\n",
                "bat7 = BatpacBattery(\"Battery 7\")\n"
            ]
        },
        {
            "attachments": {},
            "cell_type": "markdown",
            "metadata": {},
            "source": [
                "### Change battery properties\n",
                "a) Write individual properties for created batteries"
            ]
        },
        {
            "cell_type": "code",
            "execution_count": 4,
            "metadata": {},
            "outputs": [],
            "source": [
                "bat1.set_new_property(\"Dashboard\", \"Number of modules in parallel\", 10)\n"
            ]
        },
        {
            "attachments": {},
            "cell_type": "markdown",
            "metadata": {},
            "source": [
                "b) Load individiual battery configuration from file"
            ]
        },
        {
            "cell_type": "code",
            "execution_count": 5,
            "metadata": {},
            "outputs": [
                {
                    "data": {
                        "text/plain": [
                            "True"
                        ]
                    },
                    "execution_count": 5,
                    "metadata": {},
                    "output_type": "execute_result"
                }
            ],
            "source": [
                "bat2.load_battery_file(BATPY_BATPAC_BATTERY_CONFIG, \"Battery 2\")"
            ]
        },
        {
            "attachments": {},
            "cell_type": "markdown",
            "metadata": {},
            "source": [
                "## BatPaC tool\n",
                "### Create BatPaC instance"
            ]
        },
        {
            "cell_type": "code",
            "execution_count": 6,
            "metadata": {},
            "outputs": [],
            "source": [
                "battery_calculation = BatpacTool(\n",
                "    BATPY_BATPAC_EXCEL,\n",
                "    BATPY_BATPAC_USER_INPUT_CONFIG,\n",
                "    BATPY_BATPAC_TOOL_CALCULATION_VALIDATION_CONFIG,\n",
                "    excel_visible=True,\n",
                ")"
            ]
        },
        {
            "attachments": {},
            "cell_type": "markdown",
            "metadata": {},
            "source": [
                "### Add batteries to BatPaC object\n",
                "a) Add individual batteries"
            ]
        },
        {
            "cell_type": "code",
            "execution_count": 7,
            "metadata": {},
            "outputs": [],
            "source": [
                "battery_calculation.add_battery(\n",
                "    [\n",
                "        bat1,\n",
                "        bat2,\n",
                "        bat3,\n",
                "        bat4,\n",
                "        bat5,\n",
                "        bat6,\n",
                "        bat7,\n",
                "    ]\n",
                ")\n"
            ]
        },
        {
            "attachments": {},
            "cell_type": "markdown",
            "metadata": {},
            "source": [
                "b) Add individual batteries and load their configuration file (will overwrite all batteries)"
            ]
        },
        {
            "cell_type": "code",
            "execution_count": 8,
            "metadata": {},
            "outputs": [],
            "source": [
                "battery_calculation.load_batteries_file(\n",
                "    BATPY_BATPAC_BATTERY_CONFIG,\n",
                "    [\n",
                "        bat1,\n",
                "        bat2,\n",
                "        bat3,\n",
                "        bat4,\n",
                "        bat5,\n",
                "        bat6,\n",
                "        bat7,\n",
                "    ],\n",
                ")\n"
            ]
        },
        {
            "attachments": {},
            "cell_type": "markdown",
            "metadata": {},
            "source": [
                "### Load configuration file for BatPaC instance"
            ]
        },
        {
            "cell_type": "code",
            "execution_count": 9,
            "metadata": {},
            "outputs": [],
            "source": [
                "battery_calculation.load_batpac_file(BATPY_BATPAC_TOOL_CONFIG)\n"
            ]
        },
        {
            "attachments": {},
            "cell_type": "markdown",
            "metadata": {},
            "source": [
                "### Write configuration in Excel file and calculate batteries"
            ]
        },
        {
            "cell_type": "code",
            "execution_count": 10,
            "metadata": {},
            "outputs": [
                {
                    "name": "stderr",
                    "output_type": "stream",
                    "text": [
                        "Processing BatPaC configuration in each sheet: 100%|██████████| 7/7 [00:20<00:00,  2.95s/it]\n",
                        "Processing battery configuration in each sheet: 100%|██████████| 5/5 [00:10<00:00,  2.04s/it]\n"
                    ]
                }
            ],
            "source": [
                "battery_calculation.calculate()\n"
            ]
        },
        {
            "cell_type": "markdown",
            "metadata": {},
            "source": [
                "### Print calculation and validation results"
            ]
        },
        {
            "cell_type": "code",
            "execution_count": 11,
            "metadata": {},
            "outputs": [
                {
                    "name": "stdout",
                    "output_type": "stream",
                    "text": [
                        "+----------------------------------------------+-----------------------------+-----------------------------+-----------------------------+-----------------------------+-----------------------------+-----------------------------+-----------------------------+\n",
                        "| Parameter                                    |          Battery 1          |          Battery 2          |          Battery 3          |          Battery 4          |          Battery 5          |          Battery 6          |          Battery 7          |\n",
                        "+----------------------------------------------+-----------------------------+-----------------------------+-----------------------------+-----------------------------+-----------------------------+-----------------------------+-----------------------------+\n",
                        "| Configuration Errors (see table to right)    |          1, 2, 3, 4         |           2, 3, 4           |             3, 4            |             3, 4            |             3, 4            |             3, 4            |             3, 4            |\n",
                        "| Configuration Warnings (see table  to right) |             6, 7            |             6, 7            |              7              |              7              |              7              |              7              |              7              |\n",
                        "| Plant Size, GWh                              |             15.0            |             20.0            |             25.0            |             30.0            |             35.0            |             40.0            |             45.0            |\n",
                        "| Power-to-energy ratio                        |      3.3333333333333335     |             5.0             |             6.0             |      6.666666666666667      |      7.142857142857143      |             7.5             |      7.777777777777778      |\n",
                        "| Adequacy of cooling                          |             None            |             Poor            |          Excellent          |          Excellent          |          Excellent          |          Excellent          |          Excellent          |\n",
                        "| Cathode thickness limited by                 | Positive Thickness Override | Positive Thickness Override | Positive Thickness Override | Positive Thickness Override | Positive Thickness Override | Positive Thickness Override | Positive Thickness Override |\n",
                        "+----------------------------------------------+-----------------------------+-----------------------------+-----------------------------+-----------------------------+-----------------------------+-----------------------------+-----------------------------+\n"
                    ]
                },
                {
                    "data": {
                        "text/plain": [
                            "{'Parameter': ['Battery 1',\n",
                            "  'Battery 2',\n",
                            "  'Battery 3',\n",
                            "  'Battery 4',\n",
                            "  'Battery 5',\n",
                            "  'Battery 6',\n",
                            "  'Battery 7'],\n",
                            " 'Configuration Errors (see table to right)': ['1, 2, 3, 4',\n",
                            "  '2, 3, 4',\n",
                            "  '3, 4',\n",
                            "  '3, 4',\n",
                            "  '3, 4',\n",
                            "  '3, 4',\n",
                            "  '3, 4'],\n",
                            " 'Configuration Warnings (see table  to right)': ['6, 7',\n",
                            "  '6, 7',\n",
                            "  '7',\n",
                            "  '7',\n",
                            "  '7',\n",
                            "  '7',\n",
                            "  '7'],\n",
                            " 'Plant Size, GWh': [15.0, 20.0, 25.0, 30.0, 35.0, 40.0, 45.0],\n",
                            " 'Power-to-energy ratio': [3.3333333333333335,\n",
                            "  5.0,\n",
                            "  6.0,\n",
                            "  6.666666666666667,\n",
                            "  7.142857142857143,\n",
                            "  7.5,\n",
                            "  7.777777777777778],\n",
                            " 'Adequacy of cooling': [None,\n",
                            "  'Poor',\n",
                            "  'Excellent',\n",
                            "  'Excellent',\n",
                            "  'Excellent',\n",
                            "  'Excellent',\n",
                            "  'Excellent'],\n",
                            " 'Cathode thickness limited by': ['Positive Thickness Override',\n",
                            "  'Positive Thickness Override',\n",
                            "  'Positive Thickness Override',\n",
                            "  'Positive Thickness Override',\n",
                            "  'Positive Thickness Override',\n",
                            "  'Positive Thickness Override',\n",
                            "  'Positive Thickness Override']}"
                        ]
                    },
                    "execution_count": 11,
                    "metadata": {},
                    "output_type": "execute_result"
                }
            ],
            "source": [
                "battery_calculation.read_calculation_and_validation_results()\n"
            ]
        },
        {
            "attachments": {},
            "cell_type": "markdown",
            "metadata": {},
            "source": [
                "### Save configuration from Excel"
            ]
        },
        {
            "cell_type": "code",
            "execution_count": 12,
            "metadata": {},
            "outputs": [
                {
                    "name": "stderr",
                    "output_type": "stream",
                    "text": [
                        "Saving BatPaC config from each sheet: 100%|██████████| 7/7 [00:00<00:00, 14888.50it/s]\n",
                        "Saving battery configuration for each battery: 100%|██████████| 7/7 [00:00<00:00, 10230.01it/s]\n"
                    ]
                }
            ],
            "source": [
                "battery_calculation.save_config(\n",
                "    batpac_path=\"./example_data/saved_batpac_config.toml\",\n",
                "    battery_path=\"./example_data/saved_batteries_config.toml\",\n",
                ")\n"
            ]
        },
        {
            "attachments": {},
            "cell_type": "markdown",
            "metadata": {},
            "source": [
                "## Save Excel file"
            ]
        },
        {
            "cell_type": "code",
            "execution_count": 13,
            "metadata": {},
            "outputs": [],
            "source": [
                "battery_calculation.save(\"./example_data/saved_BatPaC.xlsm\")\n"
            ]
        },
        {
            "attachments": {},
            "cell_type": "markdown",
            "metadata": {},
            "source": [
                "## Close Excel file"
            ]
        },
        {
            "cell_type": "code",
            "execution_count": 14,
            "metadata": {},
            "outputs": [
                {
                    "data": {
                        "text/plain": [
                            "True"
                        ]
                    },
                    "execution_count": 14,
                    "metadata": {},
                    "output_type": "execute_result"
                }
            ],
            "source": [
                "battery_calculation.close()\n"
            ]
        }
    ],
    "metadata": {
        "kernelspec": {
            "display_name": "Python 3",
            "language": "python",
            "name": "python3"
        },
        "language_info": {
            "codemirror_mode": {
                "name": "ipython",
                "version": 3
            },
            "file_extension": ".py",
            "mimetype": "text/x-python",
            "name": "python",
            "nbconvert_exporter": "python",
            "pygments_lexer": "ipython3",
            "version": "3.10.10"
        }
    },
    "nbformat": 4,
    "nbformat_minor": 4
}
